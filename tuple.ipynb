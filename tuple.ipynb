{
 "cells": [
  {
   "attachments": {},
   "cell_type": "markdown",
   "metadata": {},
   "source": [
    "tuple properties\n",
    "- ordered(sequence)\n",
    "- indexed\n",
    "- immutable(unchangeable)\n",
    "- allow duplicate valuess\n",
    "- heterogeneous (different types of data)\n",
    "- tuple is denoted by round brackets()\n",
    "- an iterable can be converted to tuple using tuple()function"
   ]
  },
  {
   "cell_type": "code",
   "execution_count": 2,
   "metadata": {},
   "outputs": [
    {
     "name": "stdout",
     "output_type": "stream",
     "text": [
      "(1, 2, 3, 4)\n"
     ]
    }
   ],
   "source": [
    "x = (1,2,3,4) #simple tuple\n",
    "print(x)\n"
   ]
  },
  {
   "cell_type": "code",
   "execution_count": 3,
   "metadata": {},
   "outputs": [],
   "source": [
    "y = 12, 56, 23, 45 #tuple packing"
   ]
  },
  {
   "cell_type": "code",
   "execution_count": 8,
   "metadata": {},
   "outputs": [
    {
     "name": "stdout",
     "output_type": "stream",
     "text": [
      "12 45 125\n",
      "12 [45, 125]\n"
     ]
    }
   ],
   "source": [
    "a, b, c = 12,45,125 # tuple unpacking\n",
    "print(a, b, c)\n",
    "a, *b = (12,45,125) #tuple unpacking\n",
    "print(a,b)\n",
    "a, b = (1,2,3) #too many values to unpack error\n"
   ]
  },
  {
   "cell_type": "code",
   "execution_count": 9,
   "metadata": {},
   "outputs": [
    {
     "name": "stdout",
     "output_type": "stream",
     "text": [
      "(1, 2, 3, 4)\n",
      "('A', 'l', 'u', 'm', 'i', 'n', 'i', 'u', 'm')\n"
     ]
    }
   ],
   "source": [
    "x = [1,2,3,4] # a simple list\n",
    "xt = tuple(x) #convert list to tuple\n",
    "z = 'Aluminium'\n",
    "zt = tuple(z) #convert string to tuple\n",
    "print(xt, zt, sep='\\n')"
   ]
  },
  {
   "cell_type": "code",
   "execution_count": 12,
   "metadata": {},
   "outputs": [
    {
     "name": "stdout",
     "output_type": "stream",
     "text": [
      "1\n"
     ]
    }
   ],
   "source": [
    "y = (1,2,3,4,5,6,7,9,1,35,87,999,882,289,3,333,33)\n",
    "print(y.count(3)) #count the number of times 3 appears in the tuple"
   ]
  },
  {
   "cell_type": "code",
   "execution_count": 13,
   "metadata": {},
   "outputs": [
    {
     "name": "stdout",
     "output_type": "stream",
     "text": [
      "11\n"
     ]
    }
   ],
   "source": [
    "print(y.index(999))"
   ]
  },
  {
   "cell_type": "code",
   "execution_count": 15,
   "metadata": {},
   "outputs": [
    {
     "name": "stdout",
     "output_type": "stream",
     "text": [
      "(1, 2, 3, 3, 2, 1)\n"
     ]
    }
   ],
   "source": [
    "x=(1,2,3)\n",
    "y=(3,2,1)\n",
    "z=x+y\n",
    "print(z)"
   ]
  },
  {
   "cell_type": "code",
   "execution_count": null,
   "metadata": {},
   "outputs": [],
   "source": []
  }
 ],
 "metadata": {
  "kernelspec": {
   "display_name": "Python 3",
   "language": "python",
   "name": "python3"
  },
  "language_info": {
   "codemirror_mode": {
    "name": "ipython",
    "version": 3
   },
   "file_extension": ".py",
   "mimetype": "text/x-python",
   "name": "python",
   "nbconvert_exporter": "python",
   "pygments_lexer": "ipython3",
   "version": "3.11.1"
  },
  "orig_nbformat": 4,
  "vscode": {
   "interpreter": {
    "hash": "5238573367df39f7286bb46f9ff5f08f63a01a80960060ce41e3c79b190280fa"
   }
  }
 },
 "nbformat": 4,
 "nbformat_minor": 2
}
