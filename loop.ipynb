{
 "cells": [
  {
   "attachments": {},
   "cell_type": "markdown",
   "metadata": {},
   "source": [
    "- iterables (anything that can be used in a loop) \n",
    "- for loop\n",
    "    * step based loop\n",
    "    * special iterables\n",
    "       range()\n",
    "       enumerable()\n",
    "       zip()\n",
    "    *for - else\n",
    "-while loop\n",
    "    * condition based loop\n",
    "    while condition:\n",
    "      #do something\n",
    "    * while-else         \n"
   ]
  },
  {
   "attachments": {},
   "cell_type": "markdown",
   "metadata": {},
   "source": [
    "iterables (anythingg that can be used in loop)\n",
    "list\n",
    "tuple\n",
    "set \n",
    "dictionary\n",
    "string\n",
    "generator"
   ]
  },
  {
   "cell_type": "code",
   "execution_count": 17,
   "metadata": {},
   "outputs": [
    {
     "name": "stdout",
     "output_type": "stream",
     "text": [
      "12\n",
      "52\n",
      "13\n",
      "24\n",
      "45\n"
     ]
    }
   ],
   "source": [
    "x = [12, 52, 13, 24, 45]\n",
    "for i in x:\n",
    "    print(i)"
   ]
  },
  {
   "cell_type": "code",
   "execution_count": 16,
   "metadata": {},
   "outputs": [
    {
     "name": "stdout",
     "output_type": "stream",
     "text": [
      "have you seen Tiger?\n",
      "have you seen Elephant?\n",
      "have you seen Leopard?\n"
     ]
    }
   ],
   "source": [
    "animals = ['Tiger', 'Elephant', 'Leopard']\n",
    "for animals in animals:\n",
    "    print(f'have you seen {animals}?')\n"
   ]
  },
  {
   "cell_type": "code",
   "execution_count": 6,
   "metadata": {},
   "outputs": [
    {
     "name": "stdout",
     "output_type": "stream",
     "text": [
      "jumanji              | 7\n",
      "residant evil        | 13\n",
      "gangs of waseypur    | 17\n",
      "RRR                  | 3\n",
      "KGF                  | 3\n",
      "Harry Potter         | 12\n",
      "roketary             | 8\n",
      "captain america      | 15\n",
      "Iron man             | 8\n",
      "thor ragnarok        | 13\n"
     ]
    }
   ],
   "source": [
    "movies = ['jumanji', 'residant evil', 'gangs of waseypur', 'RRR', 'KGF', 'Harry Potter', 'roketary', 'captain america', 'Iron man', 'thor ragnarok' ]\n",
    "\n",
    "for movie in movies:\n",
    "    print(f'{movie:20} | {len(movie)}')"
   ]
  },
  {
   "cell_type": "code",
   "execution_count": null,
   "metadata": {},
   "outputs": [
    {
     "name": "stdout",
     "output_type": "stream",
     "text": [
      "orange\n",
      "gray\n",
      "black\n"
     ]
    }
   ],
   "source": [
    "colors = ['red', 'green', 'yellow', 'blue', 'violit', 'orange', 'gray', 'black', 'silver']\n",
    "\n",
    "for name in colors:\n",
    "    if 'a' in name:\n",
    "        print(name)"
   ]
  },
  {
   "cell_type": "code",
   "execution_count": null,
   "metadata": {},
   "outputs": [],
   "source": [
    "for i in range(10):\n",
    "    print(i, end=' ') #end is special setting in print function"
   ]
  },
  {
   "cell_type": "code",
   "execution_count": 1,
   "metadata": {},
   "outputs": [
    {
     "name": "stdout",
     "output_type": "stream",
     "text": [
      "0 1 2 3 4 5 6 7 8 9 "
     ]
    }
   ],
   "source": [
    "# 0 ro 9 display\n",
    "for i in range(10):\n",
    "    print(i, end=' ')"
   ]
  },
  {
   "cell_type": "code",
   "execution_count": 5,
   "metadata": {},
   "outputs": [
    {
     "name": "stdout",
     "output_type": "stream",
     "text": [
      "15 16 17 18 19 20 21 22 23 24 25 26 27 28 29 30 "
     ]
    }
   ],
   "source": [
    "# 15 to 30 iterate\n",
    "for i in range(15,31):\n",
    "    print(i,end=' ')\n",
    "\n"
   ]
  },
  {
   "cell_type": "code",
   "execution_count": 7,
   "metadata": {},
   "outputs": [
    {
     "name": "stdout",
     "output_type": "stream",
     "text": [
      "(0, 'jumanji')\n",
      "(1, 'residant evil')\n",
      "(2, 'gangs of waseypur')\n",
      "(3, 'RRR')\n",
      "(4, 'KGF')\n",
      "(5, 'Harry Potter')\n",
      "(6, 'roketary')\n",
      "(7, 'captain america')\n",
      "(8, 'Iron man')\n",
      "(9, 'thor ragnarok')\n"
     ]
    }
   ],
   "source": [
    "#enumeration\n",
    "for movie in enumerate(movies):\n",
    "    print(movie)\n",
    "    "
   ]
  },
  {
   "cell_type": "code",
   "execution_count": 9,
   "metadata": {},
   "outputs": [],
   "source": [
    "x = [2,56,67,12,56]\n",
    "y = [2,5,1,6,5]\n",
    "z = [2,5,61,46,22]"
   ]
  },
  {
   "cell_type": "code",
   "execution_count": 10,
   "metadata": {},
   "outputs": [
    {
     "name": "stdout",
     "output_type": "stream",
     "text": [
      "0 6 1 66 2 129 3 64 4 83 "
     ]
    }
   ],
   "source": [
    "# non pythonic\n",
    "for i in range(len(x)):\n",
    "    print(i, x[i]+y[i]+z[i], end=' ')"
   ]
  },
  {
   "cell_type": "code",
   "execution_count": 12,
   "metadata": {},
   "outputs": [],
   "source": [
    "#pythonic"
   ]
  },
  {
   "cell_type": "code",
   "execution_count": 11,
   "metadata": {},
   "outputs": [
    {
     "name": "stdout",
     "output_type": "stream",
     "text": [
      "6 66 129 64 83 "
     ]
    }
   ],
   "source": [
    "for i,j,k in zip(x,y,z):\n",
    "    print(i + j + k, end=' ')"
   ]
  },
  {
   "cell_type": "code",
   "execution_count": 15,
   "metadata": {},
   "outputs": [
    {
     "name": "stdout",
     "output_type": "stream",
     "text": [
      "total=348\n"
     ]
    }
   ],
   "source": [
    "total = 0\n",
    "for i, j, k in zip(x,y,z):\n",
    "    total += i+j+k\n",
    "print(f'{total=}')    "
   ]
  },
  {
   "cell_type": "code",
   "execution_count": 20,
   "metadata": {},
   "outputs": [
    {
     "name": "stdout",
     "output_type": "stream",
     "text": [
      "1\n",
      "2\n",
      "3\n",
      "5\n",
      "6\n",
      "3\n",
      "2\n",
      "9\n",
      "2\n",
      "8\n"
     ]
    }
   ],
   "source": [
    "data = [1,2,3,0,5,6,3,2,9,2,8]\n",
    "for i in data:\n",
    "    if i == 0:\n",
    "        continue\n",
    "    print(i)\n",
    "    \n"
   ]
  },
  {
   "cell_type": "code",
   "execution_count": 22,
   "metadata": {},
   "outputs": [
    {
     "name": "stdout",
     "output_type": "stream",
     "text": [
      "1\n",
      "2\n",
      "3\n",
      "0\n",
      "5\n",
      "6\n",
      "3\n",
      "2\n",
      "9\n",
      "2\n",
      "8\n",
      "the end\n"
     ]
    }
   ],
   "source": [
    "for i in data:\n",
    "    if i == None:\n",
    "        break\n",
    "    print(i)\n",
    "print('the end')    "
   ]
  },
  {
   "cell_type": "code",
   "execution_count": 24,
   "metadata": {},
   "outputs": [
    {
     "name": "stdout",
     "output_type": "stream",
     "text": [
      "1\n",
      "2\n",
      "3\n",
      "5\n",
      "6\n",
      "3\n",
      "2\n",
      "9\n",
      "2\n",
      "8\n"
     ]
    }
   ],
   "source": [
    "for i in data:\n",
    "    if i == 0: continue\n",
    "    if i == None: break\n",
    "    print(i)"
   ]
  },
  {
   "cell_type": "code",
   "execution_count": 23,
   "metadata": {},
   "outputs": [
    {
     "name": "stdout",
     "output_type": "stream",
     "text": [
      "1\n",
      "2\n",
      "3\n",
      "0\n",
      "5\n",
      "6\n",
      "3\n",
      "2\n",
      "9\n",
      "2\n",
      "8\n"
     ]
    }
   ],
   "source": [
    "for i in data:\n",
    "    if i == None:\n",
    "        break\n",
    "    print(i)"
   ]
  }
 ],
 "metadata": {
  "kernelspec": {
   "display_name": "base",
   "language": "python",
   "name": "python3"
  },
  "language_info": {
   "codemirror_mode": {
    "name": "ipython",
    "version": 3
   },
   "file_extension": ".py",
   "mimetype": "text/x-python",
   "name": "python",
   "nbconvert_exporter": "python",
   "pygments_lexer": "ipython3",
   "version": "3.10.8"
  },
  "orig_nbformat": 4,
  "vscode": {
   "interpreter": {
    "hash": "fedc3f56c56c7a0bd22d9790ede6240a5ff04828cd6de4187b314c8c8833d35c"
   }
  }
 },
 "nbformat": 4,
 "nbformat_minor": 2
}
