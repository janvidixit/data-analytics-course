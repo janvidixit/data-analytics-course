{
 "cells": [
  {
   "cell_type": "code",
   "execution_count": 1,
   "metadata": {},
   "outputs": [],
   "source": [
    "from dputils.scrape import Scraper, Tag"
   ]
  },
  {
   "cell_type": "code",
   "execution_count": 2,
   "metadata": {},
   "outputs": [
    {
     "data": {
      "text/plain": [
       "<title>Phones- Buy Products Online at Best Price in India - All Categories | Flipkart.com</title>"
      ]
     },
     "execution_count": 2,
     "metadata": {},
     "output_type": "execute_result"
    }
   ],
   "source": [
    "query = 'phones'\n",
    "page = 1\n",
    "url = f'https://www.flipkart.com/search?q={query}&page={page}'\n",
    "scraper = Scraper(url)\n",
    "scraper.soup.title"
   ]
  },
  {
   "cell_type": "code",
   "execution_count": 3,
   "metadata": {},
   "outputs": [
    {
     "ename": "NameError",
     "evalue": "name 'Tag' is not defined",
     "output_type": "error",
     "traceback": [
      "\u001b[1;31m---------------------------------------------------------------------------\u001b[0m",
      "\u001b[1;31mNameError\u001b[0m                                 Traceback (most recent call last)",
      "Cell \u001b[1;32mIn[3], line 2\u001b[0m\n\u001b[0;32m      1\u001b[0m \u001b[39m# page items\u001b[39;00m\n\u001b[1;32m----> 2\u001b[0m target \u001b[39m=\u001b[39m Tag(\u001b[39mcls\u001b[39m\u001b[39m=\u001b[39m\u001b[39m'\u001b[39m\u001b[39m_1YokD2 _3Mn1Gg\u001b[39m\u001b[39m'\u001b[39m)\n\u001b[0;32m      3\u001b[0m items \u001b[39m=\u001b[39m Tag(\u001b[39mcls\u001b[39m\u001b[39m=\u001b[39m\u001b[39m'\u001b[39m\u001b[39m_1AtVbE col-12-12\u001b[39m\u001b[39m'\u001b[39m)\n\u001b[0;32m      4\u001b[0m \u001b[39m# product items\u001b[39;00m\n",
      "\u001b[1;31mNameError\u001b[0m: name 'Tag' is not defined"
     ]
    }
   ],
   "source": [
    "# page items\n",
    "target = Tag(cls='_1YokD2 _3Mn1Gg')\n",
    "items = Tag(cls='_1AtVbE col-12-12')\n",
    "# product items\n",
    "title = Tag(cls='_4rR01T')\n",
    "price = Tag(cls='_30jeq3 _1_WHN1')\n",
    "rating = Tag('span', cls='_2_R_DZ')\n",
    "out = scraper.get_all(target, items, name=title, price=price, rr=rating)\n",
    "print(len(out))"
   ]
  },
  {
   "cell_type": "code",
   "execution_count": 4,
   "metadata": {},
   "outputs": [
    {
     "data": {
      "text/plain": [
       "[{'name': 'POCO C31 (Royal Blue, 64 GB)',\n",
       "  'price': '₹7,499',\n",
       "  'rr': '2,12,160 Ratings\\xa0&\\xa013,426 Reviews'},\n",
       " {'name': 'POCO C31 (Royal Blue, 32 GB)',\n",
       "  'price': '₹6,499',\n",
       "  'rr': '1,39,637 Ratings\\xa0&\\xa08,817 Reviews'},\n",
       " {'name': 'SAMSUNG Galaxy F14 5G (B.A.E. Purple, 128 GB)',\n",
       "  'price': '₹15,990',\n",
       "  'rr': None},\n",
       " {'name': 'Cellecor E3',\n",
       "  'price': '₹1,176',\n",
       "  'rr': '28 Ratings\\xa0&\\xa01 Reviews'},\n",
       " {'name': 'SAMSUNG Galaxy F14 5G (OMG Black, 128 GB)',\n",
       "  'price': '₹15,990',\n",
       "  'rr': None},\n",
       " {'name': 'realme C30 (Lake Blue, 32 GB)',\n",
       "  'price': '₹5,999',\n",
       "  'rr': '94,251 Ratings\\xa0&\\xa04,998 Reviews'},\n",
       " {'name': 'realme C30 (Denim Black, 32 GB)',\n",
       "  'price': '₹5,999',\n",
       "  'rr': '94,251 Ratings\\xa0&\\xa04,998 Reviews'},\n",
       " {'name': 'realme C30 (Bamboo Green, 32 GB)',\n",
       "  'price': '₹5,999',\n",
       "  'rr': '94,251 Ratings\\xa0&\\xa04,998 Reviews'},\n",
       " {'name': 'realme C30 (Denim Black, 32 GB)',\n",
       "  'price': '₹6,999',\n",
       "  'rr': '43,812 Ratings\\xa0&\\xa02,770 Reviews'},\n",
       " {'name': 'POCO C31 (Shadow Gray, 64 GB)',\n",
       "  'price': '₹7,499',\n",
       "  'rr': '2,12,160 Ratings\\xa0&\\xa013,426 Reviews'},\n",
       " {'name': 'realme C30 (Lake Blue, 32 GB)',\n",
       "  'price': '₹6,999',\n",
       "  'rr': '43,812 Ratings\\xa0&\\xa02,770 Reviews'},\n",
       " {'name': 'POCO M4 5G (Power Black, 64 GB)',\n",
       "  'price': '₹12,999',\n",
       "  'rr': '61,813 Ratings\\xa0&\\xa04,527 Reviews'},\n",
       " {'name': 'POCO C55 (Cool Blue, 64 GB)',\n",
       "  'price': '₹8,499',\n",
       "  'rr': '4,776 Ratings\\xa0&\\xa0216 Reviews'},\n",
       " {'name': 'SAMSUNG Galaxy F14 5G (GOAT Green, 128 GB)',\n",
       "  'price': '₹14,490',\n",
       "  'rr': None},\n",
       " {'name': 'POCO C31 (Shadow Gray, 32 GB)',\n",
       "  'price': '₹6,499',\n",
       "  'rr': '1,39,637 Ratings\\xa0&\\xa08,817 Reviews'},\n",
       " {'name': 'realme C30 (Bamboo Green, 32 GB)',\n",
       "  'price': '₹6,999',\n",
       "  'rr': '43,812 Ratings\\xa0&\\xa02,770 Reviews'},\n",
       " {'name': 'POCO M4 5G (Cool Blue, 64 GB)',\n",
       "  'price': '₹12,999',\n",
       "  'rr': '61,813 Ratings\\xa0&\\xa04,527 Reviews'},\n",
       " {'name': 'POCO C55 (Power Black, 64 GB)',\n",
       "  'price': '₹8,499',\n",
       "  'rr': '4,776 Ratings\\xa0&\\xa0216 Reviews'},\n",
       " {'name': 'POCO C55 (Cool Blue, 128 GB)',\n",
       "  'price': '₹9,999',\n",
       "  'rr': '3,051 Ratings\\xa0&\\xa0134 Reviews'},\n",
       " {'name': 'SAMSUNG Galaxy F13 (Waterfall Blue, 64 GB)',\n",
       "  'price': '₹10,999',\n",
       "  'rr': '1,33,113 Ratings\\xa0&\\xa07,608 Reviews'},\n",
       " {'name': 'POCO M4 Pro (Cool Blue, 128 GB)',\n",
       "  'price': '₹12,999',\n",
       "  'rr': '1,59,555 Ratings\\xa0&\\xa014,164 Reviews'},\n",
       " {'name': 'MOTOROLA e13 (Aurora Green, 64 GB)',\n",
       "  'price': '₹7,749',\n",
       "  'rr': '8,029 Ratings\\xa0&\\xa0706 Reviews'},\n",
       " {'name': 'SAMSUNG Galaxy F04 (Jade Purple, 64 GB)',\n",
       "  'price': '₹9,249',\n",
       "  'rr': '6,376 Ratings\\xa0&\\xa0219 Reviews'},\n",
       " {'name': 'Infinix SMART 7 (Night Black, 64 GB)',\n",
       "  'price': '₹7,499',\n",
       "  'rr': '7,034 Ratings\\xa0&\\xa0364 Reviews'},\n",
       " {'name': None, 'price': None, 'rr': None},\n",
       " {'name': None, 'price': None, 'rr': None}]"
      ]
     },
     "execution_count": 4,
     "metadata": {},
     "output_type": "execute_result"
    }
   ],
   "source": [
    "out"
   ]
  },
  {
   "cell_type": "code",
   "execution_count": 1,
   "metadata": {},
   "outputs": [],
   "source": [
    "from scraping_module import MyScraper"
   ]
  },
  {
   "cell_type": "code",
   "execution_count": 6,
   "metadata": {},
   "outputs": [
    {
     "name": "stdout",
     "output_type": "stream",
     "text": [
      "Collecting page 1...\n",
      "Collecting page 2...\n",
      "Collecting page 3...\n",
      "Collecting page 4...\n",
      "Collecting page 5...\n",
      "Collecting page 6...\n",
      "Collecting page 7...\n",
      "Collecting page 8...\n",
      "Collecting page 9...\n"
     ]
    },
    {
     "data": {
      "text/plain": [
       "[{'name': None, 'price': None, 'rr': None},\n",
       " {'name': None, 'price': None, 'rr': None},\n",
       " {'name': None, 'price': None, 'rr': None},\n",
       " {'name': None, 'price': None, 'rr': None},\n",
       " {'name': None, 'price': None, 'rr': None},\n",
       " {'name': None, 'price': None, 'rr': None},\n",
       " {'name': None, 'price': None, 'rr': None},\n",
       " {'name': None, 'price': None, 'rr': None},\n",
       " {'name': None, 'price': None, 'rr': None},\n",
       " {'name': None, 'price': None, 'rr': None},\n",
       " {'name': None, 'price': None, 'rr': None},\n",
       " {'name': None, 'price': None, 'rr': None},\n",
       " {'name': None, 'price': None, 'rr': None},\n",
       " {'name': None, 'price': None, 'rr': None},\n",
       " {'name': None, 'price': None, 'rr': None},\n",
       " {'name': None, 'price': None, 'rr': None},\n",
       " {'name': None, 'price': None, 'rr': None},\n",
       " {'name': None, 'price': None, 'rr': None},\n",
       " {'name': None, 'price': None, 'rr': None},\n",
       " {'name': None, 'price': None, 'rr': None},\n",
       " {'name': None, 'price': None, 'rr': None},\n",
       " {'name': None, 'price': None, 'rr': None},\n",
       " {'name': None, 'price': None, 'rr': None},\n",
       " {'name': None, 'price': None, 'rr': None},\n",
       " {'name': None, 'price': None, 'rr': None},\n",
       " {'name': None, 'price': None, 'rr': None},\n",
       " {'name': None, 'price': None, 'rr': None},\n",
       " {'name': None, 'price': None, 'rr': None},\n",
       " {'name': None, 'price': None, 'rr': None},\n",
       " {'name': None, 'price': None, 'rr': None},\n",
       " {'name': None, 'price': None, 'rr': None},\n",
       " {'name': None, 'price': None, 'rr': None},\n",
       " {'name': None, 'price': None, 'rr': None},\n",
       " {'name': None, 'price': None, 'rr': None},\n",
       " {'name': None, 'price': None, 'rr': None},\n",
       " {'name': None, 'price': None, 'rr': None},\n",
       " {'name': None, 'price': None, 'rr': None},\n",
       " {'name': None, 'price': None, 'rr': None},\n",
       " {'name': None, 'price': None, 'rr': None},\n",
       " {'name': None, 'price': None, 'rr': None},\n",
       " {'name': None, 'price': None, 'rr': None},\n",
       " {'name': None, 'price': None, 'rr': None},\n",
       " {'name': None, 'price': None, 'rr': None},\n",
       " {'name': None, 'price': None, 'rr': None},\n",
       " {'name': None, 'price': None, 'rr': None},\n",
       " {'name': None, 'price': None, 'rr': None},\n",
       " {'name': None, 'price': None, 'rr': None},\n",
       " {'name': None, 'price': None, 'rr': None},\n",
       " {'name': None, 'price': None, 'rr': None},\n",
       " {'name': None, 'price': None, 'rr': None},\n",
       " {'name': None, 'price': None, 'rr': None},\n",
       " {'name': None, 'price': None, 'rr': None},\n",
       " {'name': None, 'price': None, 'rr': None},\n",
       " {'name': None, 'price': None, 'rr': None},\n",
       " {'name': None, 'price': None, 'rr': None},\n",
       " {'name': None, 'price': None, 'rr': None},\n",
       " {'name': None, 'price': None, 'rr': None},\n",
       " {'name': None, 'price': None, 'rr': None},\n",
       " {'name': None, 'price': None, 'rr': None},\n",
       " {'name': None, 'price': None, 'rr': None},\n",
       " {'name': None, 'price': None, 'rr': None},\n",
       " {'name': None, 'price': None, 'rr': None},\n",
       " {'name': None, 'price': None, 'rr': None},\n",
       " {'name': None, 'price': None, 'rr': None},\n",
       " {'name': None, 'price': None, 'rr': None},\n",
       " {'name': None, 'price': None, 'rr': None},\n",
       " {'name': None, 'price': None, 'rr': None},\n",
       " {'name': None, 'price': None, 'rr': None},\n",
       " {'name': None, 'price': None, 'rr': None},\n",
       " {'name': None, 'price': None, 'rr': None},\n",
       " {'name': None, 'price': None, 'rr': None},\n",
       " {'name': None, 'price': None, 'rr': None},\n",
       " {'name': None, 'price': None, 'rr': None},\n",
       " {'name': None, 'price': None, 'rr': None},\n",
       " {'name': None, 'price': None, 'rr': None},\n",
       " {'name': None, 'price': None, 'rr': None},\n",
       " {'name': None, 'price': None, 'rr': None},\n",
       " {'name': None, 'price': None, 'rr': None},\n",
       " {'name': None, 'price': None, 'rr': None},\n",
       " {'name': None, 'price': None, 'rr': None},\n",
       " {'name': None, 'price': None, 'rr': None},\n",
       " {'name': None, 'price': None, 'rr': None},\n",
       " {'name': None, 'price': None, 'rr': None},\n",
       " {'name': None, 'price': None, 'rr': None},\n",
       " {'name': None, 'price': None, 'rr': None},\n",
       " {'name': None, 'price': None, 'rr': None},\n",
       " {'name': None, 'price': None, 'rr': None},\n",
       " {'name': None, 'price': None, 'rr': None},\n",
       " {'name': None, 'price': None, 'rr': None},\n",
       " {'name': None, 'price': None, 'rr': None},\n",
       " {'name': None, 'price': None, 'rr': None},\n",
       " {'name': None, 'price': None, 'rr': None},\n",
       " {'name': None, 'price': None, 'rr': None},\n",
       " {'name': None, 'price': None, 'rr': None},\n",
       " {'name': None, 'price': None, 'rr': None},\n",
       " {'name': None, 'price': None, 'rr': None}]"
      ]
     },
     "execution_count": 6,
     "metadata": {},
     "output_type": "execute_result"
    }
   ],
   "source": [
    "msc = MyScraper('bags')\n",
    "msc.collect_all()\n",
    "msc.dataset"
   ]
  }
 ],
 "metadata": {
  "kernelspec": {
   "display_name": "base",
   "language": "python",
   "name": "python3"
  },
  "language_info": {
   "codemirror_mode": {
    "name": "ipython",
    "version": 3
   },
   "file_extension": ".py",
   "mimetype": "text/x-python",
   "name": "python",
   "nbconvert_exporter": "python",
   "pygments_lexer": "ipython3",
   "version": "3.10.8"
  },
  "orig_nbformat": 4
 },
 "nbformat": 4,
 "nbformat_minor": 2
}
