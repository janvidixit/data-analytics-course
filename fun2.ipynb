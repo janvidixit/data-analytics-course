{
 "cells": [
  {
   "attachments": {},
   "cell_type": "markdown",
   "metadata": {},
   "source": [
    "variable argument(in number of args)"
   ]
  },
  {
   "cell_type": "code",
   "execution_count": 3,
   "metadata": {},
   "outputs": [],
   "source": [
    "def add(x,y,z,a,b,c,d,e,f,g):\n",
    "    return x+y+z+a+b+c+d+e+f+g\n",
    "    "
   ]
  },
  {
   "cell_type": "code",
   "execution_count": 4,
   "metadata": {},
   "outputs": [
    {
     "data": {
      "text/plain": [
       "1230"
      ]
     },
     "execution_count": 4,
     "metadata": {},
     "output_type": "execute_result"
    }
   ],
   "source": [
    "add(2,356,45,67,78,34,2,56,23,567)"
   ]
  },
  {
   "cell_type": "code",
   "execution_count": 2,
   "metadata": {},
   "outputs": [],
   "source": [
    "def add_v2(*args):\n",
    "    total = 0\n",
    "    for i in args:\n",
    "        total += i\n",
    "    return total    "
   ]
  },
  {
   "cell_type": "code",
   "execution_count": 5,
   "metadata": {},
   "outputs": [
    {
     "name": "stdout",
     "output_type": "stream",
     "text": [
      "12\n",
      "91\n",
      "281\n"
     ]
    }
   ],
   "source": [
    "print(add_v2(12))\n",
    "print(add_v2(12,23,56))\n",
    "print(add_v2(12,23,56,45,56,32,12,45))"
   ]
  },
  {
   "cell_type": "code",
   "execution_count": 6,
   "metadata": {},
   "outputs": [
    {
     "name": "stdout",
     "output_type": "stream",
     "text": [
      "35.125\n"
     ]
    }
   ],
   "source": [
    "def average(*values):\n",
    "    return sum(values)/len(values)\n",
    "ans = average(12,23,56,45,56,32,12,45)\n",
    "print(ans)\n",
    "     "
   ]
  },
  {
   "attachments": {},
   "cell_type": "markdown",
   "metadata": {},
   "source": [
    "**kwargs(variable keyword arguments)(n number of keyword args)"
   ]
  },
  {
   "cell_type": "code",
   "execution_count": 7,
   "metadata": {},
   "outputs": [],
   "source": [
    "def display_menu(**items):\n",
    "    if len(items)> 0:\n",
    "        for i in items:\n",
    "            print(f'{i:10} ${items[i]}')\n",
    "            "
   ]
  },
  {
   "cell_type": "code",
   "execution_count": 8,
   "metadata": {},
   "outputs": [
    {
     "name": "stdout",
     "output_type": "stream",
     "text": [
      "idli       $40\n",
      "dosa       $100\n",
      "vada       $30\n",
      "upma       $20\n"
     ]
    }
   ],
   "source": [
    "display_menu(idli=40, dosa=100, vada=30, upma=20)\n",
    "\n"
   ]
  },
  {
   "cell_type": "code",
   "execution_count": 9,
   "metadata": {},
   "outputs": [
    {
     "name": "stdout",
     "output_type": "stream",
     "text": [
      "chowmein   $80\n",
      "dumpling   $40\n"
     ]
    }
   ],
   "source": [
    "display_menu(chowmein=80, dumpling=40)\n"
   ]
  },
  {
   "attachments": {},
   "cell_type": "markdown",
   "metadata": {},
   "source": [
    "### anonymous function\n",
    "- lambda expression\n",
    "- map\n",
    "- filter\n",
    "....\n",
    "\n",
    "f(x) = x + 3 * 3\n",
    "\n",
    "g(x,y) = (x + y) * (x - y)"
   ]
  },
  {
   "cell_type": "code",
   "execution_count": 10,
   "metadata": {},
   "outputs": [
    {
     "name": "stdout",
     "output_type": "stream",
     "text": [
      "297\n",
      "869\n",
      "708\n",
      "-459\n"
     ]
    }
   ],
   "source": [
    "xlist = [21,45,62,75]\n",
    "ylist = [12,34,56,78]\n",
    "\n",
    "def eq(x,y):\n",
    "    return (x+y) * (x-y)\n",
    "for i,j in zip(xlist, ylist):\n",
    "    print(eq(i,j))\n"
   ]
  },
  {
   "cell_type": "code",
   "execution_count": 11,
   "metadata": {},
   "outputs": [
    {
     "data": {
      "text/plain": [
       "-819.8888888888889"
      ]
     },
     "execution_count": 11,
     "metadata": {},
     "output_type": "execute_result"
    }
   ],
   "source": [
    "f = lambda x : x + 10 / x - 10 * x - 10\n",
    "f(90)"
   ]
  },
  {
   "cell_type": "code",
   "execution_count": 12,
   "metadata": {},
   "outputs": [
    {
     "data": {
      "text/plain": [
       "-819.8888888888889"
      ]
     },
     "execution_count": 12,
     "metadata": {},
     "output_type": "execute_result"
    }
   ],
   "source": [
    "f(90)\n"
   ]
  },
  {
   "cell_type": "code",
   "execution_count": 14,
   "metadata": {},
   "outputs": [
    {
     "data": {
      "text/plain": [
       "<map at 0x239132e0cd0>"
      ]
     },
     "execution_count": 14,
     "metadata": {},
     "output_type": "execute_result"
    }
   ],
   "source": [
    "map(lambda x,y : (x+y) * (x-y), xlist, ylist)"
   ]
  },
  {
   "cell_type": "code",
   "execution_count": 16,
   "metadata": {},
   "outputs": [
    {
     "data": {
      "text/plain": [
       "[297, 869, 708, -459]"
      ]
     },
     "execution_count": 16,
     "metadata": {},
     "output_type": "execute_result"
    }
   ],
   "source": [
    "list(map(lambda x,y : (x+y) * (x-y),xlist, ylist))\n"
   ]
  },
  {
   "cell_type": "code",
   "execution_count": 17,
   "metadata": {},
   "outputs": [],
   "source": [
    "#initials\n",
    "name = ['Abhishek Kumar','Anand Bahadur','Alok Shukla','Janvi Dixit','Shwetank Tiwari','Sumit Verma']"
   ]
  },
  {
   "cell_type": "code",
   "execution_count": 18,
   "metadata": {},
   "outputs": [
    {
     "name": "stdout",
     "output_type": "stream",
     "text": [
      "Abhishek Kumar AK\n",
      "Anand Bahadur AB\n",
      "Alok Shukla AS\n",
      "Janvi Dixit JD\n",
      "Shwetank Tiwari ST\n",
      "Sumit Verma SV\n"
     ]
    }
   ],
   "source": [
    "def get_initials(name):\n",
    "    return name.split()[0][0] + name.split()[1][0]\n",
    "for name in name:\n",
    "    print(name, get_initials(name))    "
   ]
  },
  {
   "cell_type": "code",
   "execution_count": null,
   "metadata": {},
   "outputs": [],
   "source": []
  }
 ],
 "metadata": {
  "kernelspec": {
   "display_name": "base",
   "language": "python",
   "name": "python3"
  },
  "language_info": {
   "codemirror_mode": {
    "name": "ipython",
    "version": 3
   },
   "file_extension": ".py",
   "mimetype": "text/x-python",
   "name": "python",
   "nbconvert_exporter": "python",
   "pygments_lexer": "ipython3",
   "version": "3.10.8"
  },
  "orig_nbformat": 4,
  "vscode": {
   "interpreter": {
    "hash": "fedc3f56c56c7a0bd22d9790ede6240a5ff04828cd6de4187b314c8c8833d35c"
   }
  }
 },
 "nbformat": 4,
 "nbformat_minor": 2
}
