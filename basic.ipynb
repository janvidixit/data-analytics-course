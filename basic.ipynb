{
 "cells": [
  {
   "cell_type": "code",
   "execution_count": null,
   "metadata": {},
   "outputs": [],
   "source": [
    "\n",
    "\n",
    "x =5\n",
    "y =10\n",
    "print( x + y ) #addition\n",
    "print( x - y ) #substraction\n",
    "print( x * y ) #multiplication\n",
    "print( x / y ) #division(float)\n",
    "print( x % y ) #modulus (remainder)\n",
    "print( x //y ) #floor division(int)\n",
    "print( x ** y ) #exponentiation (power)\n"
   ]
  },
  {
   "cell_type": "code",
   "execution_count": 2,
   "metadata": {},
   "outputs": [
    {
     "name": "stdout",
     "output_type": "stream",
     "text": [
      "comparison operators\n",
      "True\n",
      "False\n",
      "True\n",
      "False\n",
      "False\n",
      "True\n",
      "True\n"
     ]
    }
   ],
   "source": [
    "x = 10\n",
    "y = 3\n",
    "print('comparison operators')\n",
    "print( x > y )\n",
    "print( x < y )\n",
    "print( x >= y )\n",
    "print( x <= y )\n",
    "print( x == y )\n",
    "print( x != y )\n",
    "print(\"Python\" == 'Python')"
   ]
  },
  {
   "cell_type": "code",
   "execution_count": 3,
   "metadata": {},
   "outputs": [
    {
     "name": "stdout",
     "output_type": "stream",
     "text": [
      "True\n",
      "True\n",
      "False\n",
      "True\n",
      "True\n",
      "True\n"
     ]
    }
   ],
   "source": [
    "colors = ['red', 'green', 'yellow','blue']\n",
    "print('red' in colors )\n",
    "print('yellow' in colors )\n",
    "print('black' in colors )\n",
    "print('green' in colors )\n",
    "print('red green' not in colors )\n",
    "print('black' not in colors )"
   ]
  },
  {
   "cell_type": "code",
   "execution_count": 4,
   "metadata": {},
   "outputs": [
    {
     "name": "stdout",
     "output_type": "stream",
     "text": [
      "True\n",
      "True\n",
      "True\n",
      "True\n",
      "False\n",
      "True\n",
      "True\n",
      "False\n",
      "False\n",
      "False\n"
     ]
    }
   ],
   "source": [
    "a,b = 100, 10\n",
    "print( a>b or b>0 ) #true\n",
    "print( a>b or b>0 ) #true\n",
    "print( a>b or b<0 ) #true\n",
    "print( a<b or b>0 ) #true\n",
    "print( a<b or b<0 ) #false\n",
    "print( a>b and b>0 ) #true\n",
    "print( a>b and b>0 ) #true\n",
    "print( a>b and b<0 ) #false\n",
    "print( a<b and b>0 ) #false\n",
    "print( a<b and b<0 ) #false\n"
   ]
  },
  {
   "cell_type": "code",
   "execution_count": 5,
   "metadata": {},
   "outputs": [],
   "source": [
    "#si= p*r*t*/100\n",
    "p=int(input('principal is:'))\n",
    "r=float(input('rate is:'))\n",
    "t=int(input('time is:'))\n",
    "si=(p*r*t)/100\n",
    "print(\"Simple Interest Calc\")\n",
    "print(f'{p=}')\n",
    "print(f'{r=}')\n",
    "print(f'{t=}')\n",
    "print(f'Simple Interest is ={si}')"
   ]
  },
  {
   "attachments": {},
   "cell_type": "markdown",
   "metadata": {},
   "source": [
    "function syntax\n"
   ]
  },
  {
   "attachments": {},
   "cell_type": "markdown",
   "metadata": {},
   "source": [
    "def fun_name(<params>):\n",
    "statement 1\n",
    "....\n",
    "statement n\n",
    "<return value>"
   ]
  }
 ],
 "metadata": {
  "kernelspec": {
   "display_name": "base",
   "language": "python",
   "name": "python3"
  },
  "language_info": {
   "codemirror_mode": {
    "name": "ipython",
    "version": 3
   },
   "file_extension": ".py",
   "mimetype": "text/x-python",
   "name": "python",
   "nbconvert_exporter": "python",
   "pygments_lexer": "ipython3",
   "version": "3.10.8"
  },
  "orig_nbformat": 4,
  "vscode": {
   "interpreter": {
    "hash": "fedc3f56c56c7a0bd22d9790ede6240a5ff04828cd6de4187b314c8c8833d35c"
   }
  }
 },
 "nbformat": 4,
 "nbformat_minor": 2
}
