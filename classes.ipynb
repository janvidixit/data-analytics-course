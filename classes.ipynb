{
 "cells": [
  {
   "cell_type": "code",
   "execution_count": 1,
   "metadata": {},
   "outputs": [
    {
     "name": "stdout",
     "output_type": "stream",
     "text": [
      "<class 'str'>\n"
     ]
    }
   ],
   "source": [
    "x = \"hello\"\n",
    "print(type(x))"
   ]
  },
  {
   "cell_type": "code",
   "execution_count": 2,
   "metadata": {},
   "outputs": [],
   "source": [
    "class Dog:\n",
    "    def bark(self):\n",
    "        print(\"woof\")\n",
    "    def bite(self,item):\n",
    "        print(f\"biting {item}\")\n",
    "    def _init_(self,age,bread,gender):  \n",
    "        self.age = age\n",
    "        self.bread = bread\n",
    "        self.gender = gender      "
   ]
  },
  {
   "cell_type": "code",
   "execution_count": 3,
   "metadata": {},
   "outputs": [
    {
     "ename": "TypeError",
     "evalue": "Dog() takes no arguments",
     "output_type": "error",
     "traceback": [
      "\u001b[1;31m---------------------------------------------------------------------------\u001b[0m",
      "\u001b[1;31mTypeError\u001b[0m                                 Traceback (most recent call last)",
      "Cell \u001b[1;32mIn[3], line 1\u001b[0m\n\u001b[1;32m----> 1\u001b[0m tiger \u001b[39m=\u001b[39m Dog(\u001b[39m3\u001b[39;49m, \u001b[39m'\u001b[39;49m\u001b[39mGerman Shepherd\u001b[39;49m\u001b[39m'\u001b[39;49m, \u001b[39m'\u001b[39;49m\u001b[39mmale\u001b[39;49m\u001b[39m'\u001b[39;49m)\n\u001b[0;32m      2\u001b[0m baadshah \u001b[39m=\u001b[39m Dog(\u001b[39m5\u001b[39m, \u001b[39m'\u001b[39m\u001b[39mPitbull\u001b[39m\u001b[39m'\u001b[39m, \u001b[39m'\u001b[39m\u001b[39mmale\u001b[39m\u001b[39m'\u001b[39m)\n\u001b[0;32m      4\u001b[0m tiger\u001b[39m.\u001b[39mbark()\n",
      "\u001b[1;31mTypeError\u001b[0m: Dog() takes no arguments"
     ]
    }
   ],
   "source": [
    "tiger = Dog(3, 'German Shepherd', 'male')\n",
    "baadshah = Dog(5, 'Pitbull', 'male')\n",
    "\n",
    "tiger.bark()\n",
    "baadshah.bite('shoe')\n",
    "tiger.bite('fish')\n",
    "baadshah.bark()\n",
    "baadshah.bark()\n",
    "baadshah.bark()"
   ]
  },
  {
   "cell_type": "code",
   "execution_count": 4,
   "metadata": {},
   "outputs": [
    {
     "name": "stdout",
     "output_type": "stream",
     "text": [
      "[1, 2, 3, 3, 5]\n",
      "[5, 6, 3, 1, 5]\n"
     ]
    }
   ],
   "source": [
    "x = [1,2,3,3,5]\n",
    "y = [5,6,3,1,5]\n",
    "\n",
    "print(x)\n",
    "print(y)"
   ]
  },
  {
   "cell_type": "code",
   "execution_count": 5,
   "metadata": {},
   "outputs": [],
   "source": [
    "class super_list(list):\n",
    "    def sum(self):\n",
    "        return sum(self)\n",
    "    \n",
    "    def mean(self):\n",
    "        return sum(self)/len(self)\n",
    "    \n",
    "    def size(self):\n",
    "        return len(self)"
   ]
  },
  {
   "cell_type": "code",
   "execution_count": 6,
   "metadata": {},
   "outputs": [
    {
     "name": "stdout",
     "output_type": "stream",
     "text": [
      "2.8\n",
      "4.0\n",
      "5\n",
      "5\n",
      "14\n",
      "20\n",
      "44\n",
      "6.285714285714286\n",
      "7\n"
     ]
    }
   ],
   "source": [
    "x = super_list([1,2,3,3,5])\n",
    "y = super_list([5,6,3,1,5])\n",
    "print(x.mean())\n",
    "print(y.mean())\n",
    "print(x.size())\n",
    "print(y.size())\n",
    "print(x.sum())\n",
    "print(y.sum())\n",
    "x.append(10)\n",
    "x.append(20)\n",
    "print(x.sum())\n",
    "print(x.mean())\n",
    "print(x.size())"
   ]
  },
  {
   "cell_type": "code",
   "execution_count": 7,
   "metadata": {},
   "outputs": [],
   "source": [
    "class Product:\n",
    "    def __init__(self, id:int, name:str, price:float, brand:str, category:str, description:str, stock:int, rating:int):\n",
    "        self.id = id\n",
    "        self.name = name\n",
    "        self.price = price\n",
    "        self.brand = brand\n",
    "        self.category = category\n",
    "        self.description = description\n",
    "        self.stock = stock\n",
    "        self.rating = rating"
   ]
  },
  {
   "cell_type": "code",
   "execution_count": 8,
   "metadata": {},
   "outputs": [
    {
     "data": {
      "text/plain": [
       "<__main__.Product at 0x24696b58110>"
      ]
     },
     "execution_count": 8,
     "metadata": {},
     "output_type": "execute_result"
    }
   ],
   "source": [
    "p = Product(1, 'iPhone', 100000, 'Apple', 'Electronics', 'iPhone 12', 100, 4.5)\n",
    "p"
   ]
  },
  {
   "cell_type": "code",
   "execution_count": 9,
   "metadata": {},
   "outputs": [],
   "source": [
    "from dataclasses import dataclass\n",
    "\n",
    "@dataclass\n",
    "class ProductV2:\n",
    "    id:int\n",
    "    name:str\n",
    "    price:float\n",
    "    brand:str\n",
    "    category:str\n",
    "    description:str\n",
    "    stock:int\n",
    "    rating:float"
   ]
  },
  {
   "cell_type": "code",
   "execution_count": 10,
   "metadata": {},
   "outputs": [
    {
     "data": {
      "text/plain": [
       "ProductV2(id=1, name='iPhone', price=100000, brand='Apple', category='Electronics', description='iPhone 12', stock=100, rating=4.5)"
      ]
     },
     "execution_count": 10,
     "metadata": {},
     "output_type": "execute_result"
    }
   ],
   "source": [
    "p2 = ProductV2(1, 'iPhone', 100000, 'Apple', 'Electronics', 'iPhone 12', 100, 4.5)\n",
    "p2"
   ]
  },
  {
   "cell_type": "code",
   "execution_count": null,
   "metadata": {},
   "outputs": [],
   "source": []
  }
 ],
 "metadata": {
  "kernelspec": {
   "display_name": "Python 3",
   "language": "python",
   "name": "python3"
  },
  "language_info": {
   "codemirror_mode": {
    "name": "ipython",
    "version": 3
   },
   "file_extension": ".py",
   "mimetype": "text/x-python",
   "name": "python",
   "nbconvert_exporter": "python",
   "pygments_lexer": "ipython3",
   "version": "3.11.1"
  },
  "orig_nbformat": 4
 },
 "nbformat": 4,
 "nbformat_minor": 2
}
