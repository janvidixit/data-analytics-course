{
 "cells": [
  {
   "cell_type": "code",
   "execution_count": 2,
   "metadata": {},
   "outputs": [
    {
     "name": "stdout",
     "output_type": "stream",
     "text": [
      "yes✔\n"
     ]
    }
   ],
   "source": [
    "x = 5\n",
    "if x > 3:\n",
    "    print(\"yes✔\")\n",
    "else:\n",
    "    print(\"no❌\")\n"
   ]
  },
  {
   "cell_type": "code",
   "execution_count": 1,
   "metadata": {},
   "outputs": [
    {
     "name": "stdout",
     "output_type": "stream",
     "text": [
      "you didn't follow the imstructions\n",
      "Try again\n"
     ]
    }
   ],
   "source": [
    "a = input(\"Enter a number:\")\n",
    "if a.isnumeric():\n",
    "    print(\"you followed the instructions\")\n",
    "    print(\"good job\")\n",
    "else:\n",
    "    print(\"you didn't follow the imstructions\")\n",
    "    print(\"Try again\")    "
   ]
  },
  {
   "cell_type": "code",
   "execution_count": 1,
   "metadata": {},
   "outputs": [
    {
     "name": "stdout",
     "output_type": "stream",
     "text": [
      "Agle saal ana\n"
     ]
    }
   ],
   "source": [
    "menu = [\"pizza\", \"pasta\", \"salad\", \"maggie\"]\n",
    "order = input(\"what would you like to order?\")\n",
    "if order in menu:\n",
    "    print(\"your order is on its way\")\n",
    "else:\n",
    "    print(\"Agle saal ana\")    "
   ]
  },
  {
   "cell_type": "code",
   "execution_count": 6,
   "metadata": {},
   "outputs": [
    {
     "name": "stdout",
     "output_type": "stream",
     "text": [
      "S\n"
     ]
    }
   ],
   "source": [
    "x = int(input(\"enter number=>\"))\n",
    "if x < 20:\n",
    "    print(\"E\")\n",
    "elif x >= 20 and x < 40:\n",
    "    print(\"D\")\n",
    "elif x >= 40 and x < 60:\n",
    "    print(\"C\")\n",
    "elif x >= 60 and x < 80:\n",
    "    print(\"A\")\n",
    "elif x >= 80 and x < 100:\n",
    "    print(\"S\")\n",
    "else:\n",
    "    print(\"Invalid entry\")                     "
   ]
  },
  {
   "attachments": {},
   "cell_type": "markdown",
   "metadata": {},
   "source": [
    "nested condition"
   ]
  },
  {
   "cell_type": "code",
   "execution_count": 2,
   "metadata": {},
   "outputs": [],
   "source": [
    "uname = input(\"enter your username = \")\n",
    "email = input('enter your email = ')\n",
    "pwd = input(\"enter password = \")\n",
    "pwd2 = input('confirm password = ')\n",
    "if len(uname) >=4 and len(uname) <16:\n",
    "    if '@' in email and len(email) > 6:\n",
    "        if len(pwd) >=8 and len(pwd) <=20 and pwd != uname:\n",
    "            if pwd == pwd2:\n",
    "                print(\"Hurray\")\n",
    "            else:\n",
    "                print(\"password do not match\")\n",
    "        else:\n",
    "              print(\"password invalid,\") \n",
    "    else:\n",
    "         print(\"username is invalid\")   \n",
    "\n",
    "\n"
   ]
  },
  {
   "attachments": {},
   "cell_type": "markdown",
   "metadata": {},
   "source": [
    "match case\n",
    ".....\n",
    "match expression:\n",
    "     case pattern1:\n",
    "        statement1\n",
    "    case pattern2:\n",
    "        statement2\n",
    "    case_:\n",
    "        statement3        "
   ]
  },
  {
   "cell_type": "code",
   "execution_count": 1,
   "metadata": {},
   "outputs": [
    {
     "name": "stdout",
     "output_type": "stream",
     "text": [
      "I dont care who you are\n"
     ]
    }
   ],
   "source": [
    "name = input('enter your name')\n",
    "match name:\n",
    "    case \"ajay\":\n",
    "        print(\"so you are ajay\")\n",
    "    case \"vijay\":\n",
    "        print(\"cool cool, you vijay\")\n",
    "    case \"raju\":\n",
    "        print('to ap raju!')\n",
    "    case _:\n",
    "        print(\"I dont care who you are\")   \n",
    "    \n",
    "                \n",
    "\n",
    "\n",
    "\n"
   ]
  },
  {
   "attachments": {},
   "cell_type": "markdown",
   "metadata": {},
   "source": [
    "# wap to generate total salary of employee based on their designation\n",
    "- if designation is manager then base salary is 50000\n",
    "- if designation is developer then base salary is 40000\n",
    "- if designation is tester  then base salary is 30000\n",
    "- apply 10% bonus manager\n",
    "- apply 20% bonus for developer\n",
    "- apply 30% bonus for tester\n",
    "- add hra of 20% of base salary\n",
    " use condition in match case\n",
    " "
   ]
  },
  {
   "attachments": {},
   "cell_type": "markdown",
   "metadata": {},
   "source": [
    "bs + bs * bs = bonus"
   ]
  },
  {
   "cell_type": "code",
   "execution_count": 23,
   "metadata": {},
   "outputs": [
    {
     "name": "stdout",
     "output_type": "stream",
     "text": [
      "total salary : 45000.0\n"
     ]
    }
   ],
   "source": [
    "designation = input(\"enter your designation\")\n",
    "match designation:\n",
    "    case 'manager':\n",
    "        bs = 50000\n",
    "        bns = bs * .1 #10%\n",
    "        hra = bs * .2 #20%\n",
    "        ts = bs + bns + hra \n",
    "        print(f'total salary : {ts}')\n",
    "    case 'developer':\n",
    "        bs = 40000\n",
    "        bns = bs * .2 #20%\n",
    "        hra = bs * .2 #20%\n",
    "        ts = bs + bs + hra\n",
    "        print(f'total salary : {ts}')\n",
    "    case 'tester':\n",
    "        bs = 30000\n",
    "        bns = bs * .3 #30%\n",
    "        hra = bs * .2 #20%\n",
    "        ts = bs + bns + hra\n",
    "        print(f'total salary : {ts}')\n",
    "    case _:\n",
    "        print(\"you are fired\")\n",
    "\n",
    "\n",
    "\n"
   ]
  },
  {
   "cell_type": "code",
   "execution_count": null,
   "metadata": {},
   "outputs": [],
   "source": [
    "if designation == 'manager':\n",
    "    pass\n",
    "elif designation == 'developer':\n",
    "    pass\n"
   ]
  }
 ],
 "metadata": {
  "kernelspec": {
   "display_name": "base",
   "language": "python",
   "name": "python3"
  },
  "language_info": {
   "codemirror_mode": {
    "name": "ipython",
    "version": 3
   },
   "file_extension": ".py",
   "mimetype": "text/x-python",
   "name": "python",
   "nbconvert_exporter": "python",
   "pygments_lexer": "ipython3",
   "version": "3.10.8"
  },
  "orig_nbformat": 4,
  "vscode": {
   "interpreter": {
    "hash": "fedc3f56c56c7a0bd22d9790ede6240a5ff04828cd6de4187b314c8c8833d35c"
   }
  }
 },
 "nbformat": 4,
 "nbformat_minor": 2
}
