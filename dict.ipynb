{
 "cells": [
  {
   "attachments": {},
   "cell_type": "markdown",
   "metadata": {},
   "source": [
    "dict properties\n",
    "- ordered (sequence)\n",
    "- unindexed\n",
    "- mutable(changeable)\n",
    "- allows duplicate values, but keys are unique\n",
    "- ley: value pairs\n",
    "- keys are immutable (cannot be changed)\n",
    "- values can be heterogeneous (different types of data)\n",
    "- denoted by '{}'\n",
    "- an list if tuples v=can be converted to dict using 'dict()' function \n"
   ]
  },
  {
   "attachments": {},
   "cell_type": "markdown",
   "metadata": {},
   "source": [
    "#what u need to learn\n",
    "- create dictionaries\n",
    "- methods\n"
   ]
  },
  {
   "cell_type": "code",
   "execution_count": 9,
   "metadata": {},
   "outputs": [],
   "source": [
    "series1 = {\n",
    "    'title':'hostel days',\n",
    "    'total seasons': 5,\n",
    "    'available on': 'Mx player',\n",
    "    'genre':'hostel life',\n",
    "    'summary':'This series based on hostel life fun and struggle.'\n",
    "}"
   ]
  },
  {
   "cell_type": "code",
   "execution_count": 3,
   "metadata": {},
   "outputs": [],
   "source": [
    "series2 = {} #empty dictionary"
   ]
  },
  {
   "cell_type": "code",
   "execution_count": 10,
   "metadata": {},
   "outputs": [
    {
     "data": {
      "text/plain": [
       "'hostel days'"
      ]
     },
     "execution_count": 10,
     "metadata": {},
     "output_type": "execute_result"
    }
   ],
   "source": [
    "series1['title']"
   ]
  },
  {
   "cell_type": "code",
   "execution_count": 11,
   "metadata": {},
   "outputs": [],
   "source": [
    "series2['title'] = 'Arrow'"
   ]
  },
  {
   "cell_type": "code",
   "execution_count": 12,
   "metadata": {},
   "outputs": [
    {
     "data": {
      "text/plain": [
       "'Arrow'"
      ]
     },
     "execution_count": 12,
     "metadata": {},
     "output_type": "execute_result"
    }
   ],
   "source": [
    "series2['title']"
   ]
  },
  {
   "cell_type": "code",
   "execution_count": 13,
   "metadata": {},
   "outputs": [],
   "source": [
    "series2['seasons'] = 8\n",
    "series2['genre'] = 'Action/Adventure'\n",
    "series2['studio'] = 'DC Comics'"
   ]
  },
  {
   "cell_type": "code",
   "execution_count": 14,
   "metadata": {},
   "outputs": [
    {
     "data": {
      "text/plain": [
       "{'title': 'Arrow',\n",
       " 'seasons': 8,\n",
       " 'genre': 'Action/Adventure',\n",
       " 'studio': 'DC Comics'}"
      ]
     },
     "execution_count": 14,
     "metadata": {},
     "output_type": "execute_result"
    }
   ],
   "source": [
    "series2"
   ]
  },
  {
   "attachments": {},
   "cell_type": "markdown",
   "metadata": {},
   "source": [
    "nested dictionary"
   ]
  },
  {
   "cell_type": "code",
   "execution_count": 15,
   "metadata": {},
   "outputs": [],
   "source": [
    "books = {\n",
    "    'book 1': { \n",
    "         'title': 'The Alloy Of Law', \n",
    "        'author': 'Brandson Sanderson',\n",
    "        'summary': 'Western meets steampunk in this new Mistborn series'   \n",
    "               },\n",
    "               'book 2' : {\n",
    "                    'title': 'The Brandson Sanderson',\n",
    "                    'author': 'Brandson Sanderson',\n",
    "                    'summary': 'The third book in the Mistborn series era 2'\n",
    "    \n",
    "               },\n",
    "               \n",
    "}"
   ]
  },
  {
   "cell_type": "code",
   "execution_count": 19,
   "metadata": {},
   "outputs": [
    {
     "name": "stdout",
     "output_type": "stream",
     "text": [
      "title hostel days\n",
      "total seasons 5\n",
      "available on Mx player\n",
      "genre hostel life\n",
      "summary This series based on hostel life fun and struggle.\n"
     ]
    }
   ],
   "source": [
    "for i in series1:\n",
    "    print(i, series1[i])\n"
   ]
  },
  {
   "cell_type": "code",
   "execution_count": 20,
   "metadata": {},
   "outputs": [
    {
     "name": "stdout",
     "output_type": "stream",
     "text": [
      "title hostel days\n",
      "total seasons 5\n",
      "available on Mx player\n",
      "genre hostel life\n",
      "summary This series based on hostel life fun and struggle.\n"
     ]
    }
   ],
   "source": [
    "for k,v in series1.items():\n",
    "    print(k,v)"
   ]
  },
  {
   "cell_type": "code",
   "execution_count": 23,
   "metadata": {},
   "outputs": [
    {
     "name": "stdout",
     "output_type": "stream",
     "text": [
      "book 1 title The Alloy Of Law\n",
      "book 1 author Brandson Sanderson\n",
      "book 1 summary Western meets steampunk in this new Mistborn series\n",
      "book 2 title The Brandson Sanderson\n",
      "book 2 author Brandson Sanderson\n",
      "book 2 summary The third book in the Mistborn series era 2\n"
     ]
    }
   ],
   "source": [
    "for k,v in books.items():\n",
    "    for k1,v1 in v.items():\n",
    "        print(k,k1,v1)"
   ]
  },
  {
   "cell_type": "code",
   "execution_count": 24,
   "metadata": {},
   "outputs": [
    {
     "data": {
      "text/plain": [
       "['title', 'total seasons', 'available on', 'genre', 'summary']"
      ]
     },
     "execution_count": 24,
     "metadata": {},
     "output_type": "execute_result"
    }
   ],
   "source": [
    "list(series1.keys())"
   ]
  },
  {
   "cell_type": "code",
   "execution_count": 25,
   "metadata": {},
   "outputs": [
    {
     "data": {
      "text/plain": [
       "['hostel days',\n",
       " 5,\n",
       " 'Mx player',\n",
       " 'hostel life',\n",
       " 'This series based on hostel life fun and struggle.']"
      ]
     },
     "execution_count": 25,
     "metadata": {},
     "output_type": "execute_result"
    }
   ],
   "source": [
    "list(series1.values())"
   ]
  },
  {
   "cell_type": "code",
   "execution_count": 26,
   "metadata": {},
   "outputs": [
    {
     "data": {
      "text/plain": [
       "dict_items([('title', 'Arrow'), ('seasons', 8), ('genre', 'Action/Adventure'), ('studio', 'DC Comics')])"
      ]
     },
     "execution_count": 26,
     "metadata": {},
     "output_type": "execute_result"
    }
   ],
   "source": [
    "series2.items()"
   ]
  },
  {
   "cell_type": "code",
   "execution_count": 27,
   "metadata": {},
   "outputs": [
    {
     "data": {
      "text/plain": [
       "{'book 1': {'title': 'The Alloy Of Law',\n",
       "  'author': 'Brandson Sanderson',\n",
       "  'summary': 'Western meets steampunk in this new Mistborn series'},\n",
       " 'book 2': {'title': 'The Brandson Sanderson',\n",
       "  'author': 'Brandson Sanderson',\n",
       "  'summary': 'The third book in the Mistborn series era 2'}}"
      ]
     },
     "execution_count": 27,
     "metadata": {},
     "output_type": "execute_result"
    }
   ],
   "source": [
    "books"
   ]
  },
  {
   "cell_type": "code",
   "execution_count": 29,
   "metadata": {},
   "outputs": [
    {
     "data": {
      "text/plain": [
       "{'title': 'The Alloy Of Law',\n",
       " 'author': 'Brandson Sanderson',\n",
       " 'summary': 'Western meets steampunk in this new Mistborn series'}"
      ]
     },
     "execution_count": 29,
     "metadata": {},
     "output_type": "execute_result"
    }
   ],
   "source": [
    "books.pop('book 1')"
   ]
  },
  {
   "cell_type": "code",
   "execution_count": 32,
   "metadata": {},
   "outputs": [
    {
     "data": {
      "text/plain": [
       "{'book 2': {'title': 'The Brandson Sanderson',\n",
       "  'author': 'Brandson Sanderson',\n",
       "  'summary': 'The third book in the Mistborn series era 2'},\n",
       " 'series1': {'title': 'hostel days',\n",
       "  'total seasons': 5,\n",
       "  'available on': 'Mx player',\n",
       "  'genre': 'hostel life',\n",
       "  'summary': 'This series based on hostel life fun and struggle.'},\n",
       " 'series2': {'title': 'Arrow',\n",
       "  'seasons': 8,\n",
       "  'genre': 'Action/Adventure',\n",
       "  'studio': 'DC Comics'}}"
      ]
     },
     "execution_count": 32,
     "metadata": {},
     "output_type": "execute_result"
    }
   ],
   "source": [
    "books.update({'series1': series1, 'series2': series2})\n",
    "books"
   ]
  },
  {
   "cell_type": "code",
   "execution_count": 36,
   "metadata": {},
   "outputs": [
    {
     "ename": "TypeError",
     "evalue": "'tuple' object does not support item assignment",
     "output_type": "error",
     "traceback": [
      "\u001b[1;31m---------------------------------------------------------------------------\u001b[0m",
      "\u001b[1;31mTypeError\u001b[0m                                 Traceback (most recent call last)",
      "Cell \u001b[1;32mIn[36], line 4\u001b[0m\n\u001b[0;32m      2\u001b[0m nm \u001b[39m=\u001b[39m \u001b[39minput\u001b[39m(\u001b[39m'\u001b[39m\u001b[39mEnter name: \u001b[39m\u001b[39m'\u001b[39m)\n\u001b[0;32m      3\u001b[0m ph \u001b[39m=\u001b[39m \u001b[39minput\u001b[39m(\u001b[39m'\u001b[39m\u001b[39mEnter phone number: \u001b[39m\u001b[39m'\u001b[39m)\n\u001b[1;32m----> 4\u001b[0m contacts[\u001b[39m'\u001b[39m\u001b[39mname\u001b[39m\u001b[39m'\u001b[39m] \u001b[39m=\u001b[39m nm\n\u001b[0;32m      5\u001b[0m contacts[\u001b[39m'\u001b[39m\u001b[39mphone\u001b[39m\u001b[39m'\u001b[39m] \u001b[39m=\u001b[39m ph\n\u001b[0;32m      7\u001b[0m \u001b[39mprint\u001b[39m(contacts)\n",
      "\u001b[1;31mTypeError\u001b[0m: 'tuple' object does not support item assignment"
     ]
    }
   ],
   "source": [
    "contacts = ()\n",
    "nm = input('Enter name: ')\n",
    "ph = input('Enter phone number: ')\n",
    "contacts['name'] = nm\n",
    "contacts['phone'] = ph\n",
    "\n",
    "print(contacts)\n"
   ]
  }
 ],
 "metadata": {
  "kernelspec": {
   "display_name": "base",
   "language": "python",
   "name": "python3"
  },
  "language_info": {
   "codemirror_mode": {
    "name": "ipython",
    "version": 3
   },
   "file_extension": ".py",
   "mimetype": "text/x-python",
   "name": "python",
   "nbconvert_exporter": "python",
   "pygments_lexer": "ipython3",
   "version": "3.10.8"
  },
  "orig_nbformat": 4,
  "vscode": {
   "interpreter": {
    "hash": "fedc3f56c56c7a0bd22d9790ede6240a5ff04828cd6de4187b314c8c8833d35c"
   }
  }
 },
 "nbformat": 4,
 "nbformat_minor": 2
}
